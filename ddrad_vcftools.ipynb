{
 "cells": [
  {
   "cell_type": "markdown",
   "id": "db87e86a",
   "metadata": {},
   "source": [
    "### Filtering SNPS from ipyrad\n",
    "\n",
    "This notebook will filter SNPs called from ipyrad (and probably stacks and other RADseq pipelines).  The goal of filtering is to reduce individuals with low coverage and missing data and to remove loci that are not biallelic, have too many missing individuals, have very small minor allele frequencies, and lack sufficient sequencing depth.  We should can also remove SNPs that are closely linked to other SNPs, this step should be done last in order to\n",
    "ensure that the linked SNP we keep passes our other filtering parameters.\n",
    "\n",
    "**Input files**: an unfiltered snp file in vcf format\n",
    "\n",
    "**Output files**: a filtered snp file in vcf format\n",
    "\n",
    "**Modules needed**: vcftools, gzip"
   ]
  },
  {
   "cell_type": "markdown",
   "id": "712ddfeb",
   "metadata": {},
   "source": [
    "#### Set module versions, load modules and load packages"
   ]
  },
  {
   "cell_type": "code",
   "execution_count": 1,
   "id": "e3ffb5cd",
   "metadata": {},
   "outputs": [],
   "source": [
    "! module load vcftools/0.1.16\n",
    "! module load gzip/1.12\n",
    "vcftools = \"vcftools\"\n",
    "gzip = \"gzip\"\n",
    "\n",
    "import sys\n",
    "import os\n",
    "from os import environ\n",
    "import gzip\n",
    "import warnings\n",
    "import pandas as pd\n",
    "import numpy as np\n",
    "import scipy as sp\n",
    "import glob\n",
    "import re\n",
    "import random\n",
    "import matplotlib.pyplot as plt"
   ]
  },
  {
   "cell_type": "markdown",
   "id": "5a2715e9",
   "metadata": {},
   "source": [
    "#### Set values for your directory, set input file name:"
   ]
  },
  {
   "cell_type": "code",
   "execution_count": 2,
   "id": "9719f017",
   "metadata": {},
   "outputs": [],
   "source": [
    "mydir = \"your/directory/here\""
   ]
  },
  {
   "cell_type": "code",
   "execution_count": 3,
   "id": "829733ad",
   "metadata": {},
   "outputs": [],
   "source": [
    "inputfile = \"yourvcffile.vcf\""
   ]
  },
  {
   "cell_type": "markdown",
   "id": "accffd1d",
   "metadata": {},
   "source": [
    "#### Create project dir, move into directory and move vcf file to project directory\n",
    "\n",
    "If you haven't done the previous ipyrad step of this pipeline, just place your vcf file in the project directory"
   ]
  },
  {
   "cell_type": "code",
   "execution_count": 4,
   "id": "15bf802a",
   "metadata": {},
   "outputs": [
    {
     "name": "stdout",
     "output_type": "stream",
     "text": [
      "/scratch/mw955/mive1\n"
     ]
    }
   ],
   "source": [
    "cd $mydir"
   ]
  },
  {
   "cell_type": "code",
   "execution_count": 5,
   "id": "babc4f0d",
   "metadata": {},
   "outputs": [
    {
     "name": "stdout",
     "output_type": "stream",
     "text": [
      "mkdir: cannot create directory ‘filter’: File exists\r\n"
     ]
    }
   ],
   "source": [
    "!mkdir filter"
   ]
  },
  {
   "cell_type": "code",
   "execution_count": 6,
   "id": "038cea30",
   "metadata": {},
   "outputs": [],
   "source": [
    "projdir = os.path.join(mydir,\"filter\")"
   ]
  },
  {
   "cell_type": "code",
   "execution_count": 7,
   "id": "435e3286",
   "metadata": {},
   "outputs": [],
   "source": [
    "cp ipyrad/mive_outfiles/mive.vcf filter"
   ]
  },
  {
   "cell_type": "code",
   "execution_count": 8,
   "id": "777c892d",
   "metadata": {},
   "outputs": [
    {
     "name": "stdout",
     "output_type": "stream",
     "text": [
      "/scratch/mw955/mive1/filter\n"
     ]
    }
   ],
   "source": [
    "cd $projdir"
   ]
  },
  {
   "cell_type": "markdown",
   "id": "25b53682",
   "metadata": {},
   "source": [
    "4. Count number of SNPs in the unfiltered vcf"
   ]
  },
  {
   "cell_type": "code",
   "execution_count": 9,
   "id": "4df511a8",
   "metadata": {},
   "outputs": [
    {
     "name": "stdout",
     "output_type": "stream",
     "text": [
      "213663\r\n"
     ]
    }
   ],
   "source": [
    "!cat $inputfile | grep -v '#' | wc -l"
   ]
  },
  {
   "cell_type": "markdown",
   "id": "72970b31",
   "metadata": {},
   "source": [
    "## Filter for only biallelic SNPs\n",
    "Keeping only loci that have exactly two alleles"
   ]
  },
  {
   "cell_type": "code",
   "execution_count": 10,
   "id": "42c17d43",
   "metadata": {},
   "outputs": [],
   "source": [
    "!module load vcftools/0.1.16"
   ]
  },
  {
   "cell_type": "code",
   "execution_count": 11,
   "id": "62bc3b8f",
   "metadata": {},
   "outputs": [
    {
     "name": "stdout",
     "output_type": "stream",
     "text": [
      "\n",
      "VCFtools - 0.1.16\n",
      "(C) Adam Auton and Anthony Marcketta 2009\n",
      "\n",
      "Parameters as interpreted:\n",
      "\t--vcf mive.vcf\n",
      "\t--recode-INFO-all\n",
      "\t--max-alleles 2\n",
      "\t--min-alleles 2\n",
      "\t--out biallelic\n",
      "\t--recode\n",
      "\t--remove-filtered-all\n",
      "\t--remove-indels\n",
      "\n",
      "After filtering, kept 192 out of 192 Individuals\n",
      "Outputting VCF file...\n",
      "After filtering, kept 189277 out of a possible 213663 Sites\n",
      "Run Time = 30.00 seconds\n"
     ]
    }
   ],
   "source": [
    "!module load vcftools/0.1.16 && \\\n",
    "vcftools --remove-indels \\\n",
    "--min-alleles 2 \\\n",
    "--max-alleles 2 \\\n",
    "--remove-filtered-all \\\n",
    "--recode \\\n",
    "--recode-INFO-all \\\n",
    "--vcf $inputfile \\\n",
    "--out biallelic"
   ]
  },
  {
   "cell_type": "markdown",
   "id": "397cacc8",
   "metadata": {},
   "source": [
    "## Filter Loci by MAF and missing indviduals\n",
    "Filtering to keep loci with at least 2% for minor allele frequency and a maximum of 60% missing data."
   ]
  },
  {
   "cell_type": "code",
   "execution_count": 12,
   "id": "e724d0bd",
   "metadata": {},
   "outputs": [
    {
     "name": "stdout",
     "output_type": "stream",
     "text": [
      "\n",
      "VCFtools - 0.1.16\n",
      "(C) Adam Auton and Anthony Marcketta 2009\n",
      "\n",
      "Parameters as interpreted:\n",
      "\t--vcf biallelic.recode.vcf\n",
      "\t--recode-INFO-all\n",
      "\t--maf 0.02\n",
      "\t--max-missing 0.6\n",
      "\t--out filtered_loci\n",
      "\t--recode\n",
      "\t--remove-filtered-all\n",
      "\n",
      "After filtering, kept 192 out of 192 Individuals\n",
      "Outputting VCF file...\n",
      "After filtering, kept 18521 out of a possible 189277 Sites\n",
      "Run Time = 8.00 seconds\n"
     ]
    }
   ],
   "source": [
    "!module load vcftools/0.1.16 && \\\n",
    "$vcftools \\\n",
    "--max-missing 0.6 \\\n",
    "--maf 0.02 \\\n",
    "--remove-filtered-all \\\n",
    "--recode \\\n",
    "--recode-INFO-all \\\n",
    "--vcf biallelic.recode.vcf \\\n",
    "--out filtered_loci"
   ]
  },
  {
   "cell_type": "markdown",
   "id": "4252abc0",
   "metadata": {},
   "source": [
    "## Remove individuals with large amounts of missing data\n",
    "\n",
    "First we will get a report from vcftools of the number missing SNPs per individual"
   ]
  },
  {
   "cell_type": "code",
   "execution_count": 13,
   "id": "30dd5a64",
   "metadata": {},
   "outputs": [
    {
     "name": "stdout",
     "output_type": "stream",
     "text": [
      "\r\n",
      "\r\n",
      "Error: Only one output function may be called.\r\n",
      "\r\n"
     ]
    }
   ],
   "source": [
    "!module load vcftools/0.1.16 && \\\n",
    "vcftools \\\n",
    "--vcf filtered_loci.recode.vcf \\\n",
    "--missing-indv \\\n",
    "--recode \\\n",
    "--recode-INFO-all \\\n",
    "--out filtered_loci\n"
   ]
  },
  {
   "cell_type": "markdown",
   "id": "914ca492",
   "metadata": {},
   "source": [
    "**Examine the report to come up with a cut off for missing data:**"
   ]
  },
  {
   "cell_type": "code",
   "execution_count": 15,
   "id": "526abf6a",
   "metadata": {},
   "outputs": [],
   "source": [
    "imiss_df = pd.read_csv(\"filtered_loci.imiss\", sep=\"\\t\")\n",
    "imiss_df.index = imiss_df.INDV"
   ]
  },
  {
   "cell_type": "code",
   "execution_count": 16,
   "id": "89d6b098",
   "metadata": {},
   "outputs": [
    {
     "data": {
      "text/html": [
       "<div>\n",
       "<style scoped>\n",
       "    .dataframe tbody tr th:only-of-type {\n",
       "        vertical-align: middle;\n",
       "    }\n",
       "\n",
       "    .dataframe tbody tr th {\n",
       "        vertical-align: top;\n",
       "    }\n",
       "\n",
       "    .dataframe thead th {\n",
       "        text-align: right;\n",
       "    }\n",
       "</style>\n",
       "<table border=\"1\" class=\"dataframe\">\n",
       "  <thead>\n",
       "    <tr style=\"text-align: right;\">\n",
       "      <th></th>\n",
       "      <th>INDV</th>\n",
       "      <th>N_DATA</th>\n",
       "      <th>N_GENOTYPES_FILTERED</th>\n",
       "      <th>N_MISS</th>\n",
       "      <th>F_MISS</th>\n",
       "    </tr>\n",
       "    <tr>\n",
       "      <th>INDV</th>\n",
       "      <th></th>\n",
       "      <th></th>\n",
       "      <th></th>\n",
       "      <th></th>\n",
       "      <th></th>\n",
       "    </tr>\n",
       "  </thead>\n",
       "  <tbody>\n",
       "    <tr>\n",
       "      <th>100AZ5</th>\n",
       "      <td>100AZ5</td>\n",
       "      <td>18521</td>\n",
       "      <td>0</td>\n",
       "      <td>1254</td>\n",
       "      <td>0.067707</td>\n",
       "    </tr>\n",
       "    <tr>\n",
       "      <th>101AZ6</th>\n",
       "      <td>101AZ6</td>\n",
       "      <td>18521</td>\n",
       "      <td>0</td>\n",
       "      <td>1262</td>\n",
       "      <td>0.068139</td>\n",
       "    </tr>\n",
       "    <tr>\n",
       "      <th>102AZ7</th>\n",
       "      <td>102AZ7</td>\n",
       "      <td>18521</td>\n",
       "      <td>0</td>\n",
       "      <td>8025</td>\n",
       "      <td>0.433292</td>\n",
       "    </tr>\n",
       "    <tr>\n",
       "      <th>103AZ8</th>\n",
       "      <td>103AZ8</td>\n",
       "      <td>18521</td>\n",
       "      <td>0</td>\n",
       "      <td>2219</td>\n",
       "      <td>0.119810</td>\n",
       "    </tr>\n",
       "    <tr>\n",
       "      <th>104AZ9</th>\n",
       "      <td>104AZ9</td>\n",
       "      <td>18521</td>\n",
       "      <td>0</td>\n",
       "      <td>2693</td>\n",
       "      <td>0.145403</td>\n",
       "    </tr>\n",
       "  </tbody>\n",
       "</table>\n",
       "</div>"
      ],
      "text/plain": [
       "          INDV  N_DATA  N_GENOTYPES_FILTERED  N_MISS    F_MISS\n",
       "INDV                                                          \n",
       "100AZ5  100AZ5   18521                     0    1254  0.067707\n",
       "101AZ6  101AZ6   18521                     0    1262  0.068139\n",
       "102AZ7  102AZ7   18521                     0    8025  0.433292\n",
       "103AZ8  103AZ8   18521                     0    2219  0.119810\n",
       "104AZ9  104AZ9   18521                     0    2693  0.145403"
      ]
     },
     "execution_count": 16,
     "metadata": {},
     "output_type": "execute_result"
    }
   ],
   "source": [
    "imiss_df.head()"
   ]
  },
  {
   "cell_type": "code",
   "execution_count": 17,
   "id": "7042fffe",
   "metadata": {},
   "outputs": [
    {
     "data": {
      "text/plain": [
       "count    192.000000\n",
       "mean       0.194197\n",
       "std        0.187218\n",
       "min        0.036391\n",
       "25%        0.070353\n",
       "50%        0.112251\n",
       "75%        0.265253\n",
       "max        0.991091\n",
       "Name: F_MISS, dtype: float64"
      ]
     },
     "execution_count": 17,
     "metadata": {},
     "output_type": "execute_result"
    }
   ],
   "source": [
    "imiss_df.F_MISS.describe()"
   ]
  },
  {
   "cell_type": "code",
   "execution_count": 18,
   "id": "6a893102",
   "metadata": {},
   "outputs": [
    {
     "data": {
      "text/plain": [
       "array([[<Axes: title={'center': 'F_MISS'}>]], dtype=object)"
      ]
     },
     "execution_count": 18,
     "metadata": {},
     "output_type": "execute_result"
    },
    {
     "data": {
      "image/png": "[encoded data removed]",
      "text/plain": [
       "<Figure size 640x480 with 1 Axes>"
      ]
     },
     "metadata": {},
     "output_type": "display_data"
    }
   ],
   "source": [
    "imiss_df.hist(column= \"F_MISS\", bins= 40)"
   ]
  },
  {
   "cell_type": "markdown",
   "id": "ba144f3e",
   "metadata": {},
   "source": [
    "**Based on the above figure I'm thinking we remove individuals missing more than 50% of the data.  Lets see how many individuals that is and which ones they are:**"
   ]
  },
  {
   "cell_type": "code",
   "execution_count": 19,
   "id": "eef3aec3",
   "metadata": {},
   "outputs": [
    {
     "data": {
      "text/plain": [
       "(192, 19, 13, 9)"
      ]
     },
     "execution_count": 19,
     "metadata": {},
     "output_type": "execute_result"
    }
   ],
   "source": [
    "len(imiss_df),len(imiss_df[imiss_df.F_MISS >= .4]),len(imiss_df[imiss_df.F_MISS >= .5]), len(imiss_df[imiss_df.F_MISS >= .6])\n"
   ]
  },
  {
   "cell_type": "code",
   "execution_count": 20,
   "id": "58bd2bcf",
   "metadata": {},
   "outputs": [],
   "source": [
    "bad_indv40 = imiss_df.INDV[imiss_df.F_MISS >= .4]\n",
    "bad_indv50 = imiss_df.INDV[imiss_df.F_MISS >= .5]\n",
    "bad_indv60 = imiss_df.INDV[imiss_df.F_MISS >= .6]"
   ]
  },
  {
   "cell_type": "code",
   "execution_count": 21,
   "id": "e6900b5b",
   "metadata": {},
   "outputs": [
    {
     "name": "stdout",
     "output_type": "stream",
     "text": [
      "INDV\n",
      "102AZ7      102AZ7\n",
      "110ASU4    110ASU4\n",
      "112ASU6    112ASU6\n",
      "113ASU7    113ASU7\n",
      "121SC        121SC\n",
      "126SC        126SC\n",
      "130MG        130MG\n",
      "138DC        138DC\n",
      "146VP        146VP\n",
      "153AC        153AC\n",
      "161GC        161GC\n",
      "171MC        171MC\n",
      "177MC        177MC\n",
      "184FC        184FC\n",
      "185FC        185FC\n",
      "40DS          40DS\n",
      "59UF          59UF\n",
      "68BL          68BL\n",
      "96AZ1        96AZ1\n",
      "Name: INDV, dtype: object\n"
     ]
    }
   ],
   "source": [
    "print(bad_indv40)"
   ]
  },
  {
   "cell_type": "code",
   "execution_count": 22,
   "id": "9c54f49a",
   "metadata": {},
   "outputs": [
    {
     "name": "stdout",
     "output_type": "stream",
     "text": [
      "INDV\n",
      "112ASU6    112ASU6\n",
      "113ASU7    113ASU7\n",
      "121SC        121SC\n",
      "130MG        130MG\n",
      "138DC        138DC\n",
      "146VP        146VP\n",
      "153AC        153AC\n",
      "161GC        161GC\n",
      "177MC        177MC\n",
      "184FC        184FC\n",
      "185FC        185FC\n",
      "68BL          68BL\n",
      "96AZ1        96AZ1\n",
      "Name: INDV, dtype: object\n"
     ]
    }
   ],
   "source": [
    "print(bad_indv50)"
   ]
  },
  {
   "cell_type": "code",
   "execution_count": 23,
   "id": "0b8deca1",
   "metadata": {},
   "outputs": [
    {
     "name": "stdout",
     "output_type": "stream",
     "text": [
      "INDV\n",
      "113ASU7    113ASU7\n",
      "130MG        130MG\n",
      "146VP        146VP\n",
      "153AC        153AC\n",
      "161GC        161GC\n",
      "177MC        177MC\n",
      "185FC        185FC\n",
      "68BL          68BL\n",
      "96AZ1        96AZ1\n",
      "Name: INDV, dtype: object\n"
     ]
    }
   ],
   "source": [
    "print(bad_indv60)"
   ]
  },
  {
   "cell_type": "markdown",
   "id": "02af6721",
   "metadata": {},
   "source": [
    "**Ok, I think I'm going to remove individuals missing 50% of their data or more, this means I'm removing 13 individuals and retaining 179**"
   ]
  },
  {
   "cell_type": "code",
   "execution_count": 24,
   "id": "87af566d",
   "metadata": {},
   "outputs": [],
   "source": [
    "badindv = imiss_df.INDV[imiss_df.F_MISS >= .5]"
   ]
  },
  {
   "cell_type": "code",
   "execution_count": 25,
   "id": "cd582b35",
   "metadata": {},
   "outputs": [],
   "source": [
    "badindv.to_csv(\"badindv.txt\", header=False, index=False, sep=\"\\t\")"
   ]
  },
  {
   "cell_type": "code",
   "execution_count": null,
   "id": "896142f2",
   "metadata": {},
   "outputs": [],
   "source": [
    "!cat badindv.txt"
   ]
  },
  {
   "cell_type": "markdown",
   "id": "bd1e3585",
   "metadata": {},
   "source": [
    "**removing individuals with greater than 50% missing loci:**"
   ]
  },
  {
   "cell_type": "code",
   "execution_count": 27,
   "id": "af14f87e",
   "metadata": {},
   "outputs": [
    {
     "name": "stdout",
     "output_type": "stream",
     "text": [
      "\n",
      "VCFtools - 0.1.16\n",
      "(C) Adam Auton and Anthony Marcketta 2009\n",
      "\n",
      "Parameters as interpreted:\n",
      "\t--vcf filtered_loci.recode.vcf\n",
      "\t--remove badindv.txt\n",
      "\t--recode-INFO-all\n",
      "\t--out filtered_indv\n",
      "\t--recode\n",
      "\n",
      "Excluding individuals in 'exclude' list\n",
      "After filtering, kept 179 out of 192 Individuals\n",
      "Outputting VCF file...\n",
      "After filtering, kept 18521 out of a possible 18521 Sites\n",
      "Run Time = 7.00 seconds\n"
     ]
    }
   ],
   "source": [
    "!module load vcftools/0.1.16 && \\\n",
    "vcftools \\\n",
    "--vcf filtered_loci.recode.vcf \\\n",
    "--remove badindv.txt \\\n",
    "--recode \\\n",
    "--recode-INFO-all \\\n",
    "--out filtered_indv"
   ]
  },
  {
   "cell_type": "markdown",
   "id": "d3cc75b5",
   "metadata": {},
   "source": [
    "## Thin SNPs so that there is only one SNP per RADtag\n",
    "\n",
    "**From running fastqc, our RADtags are 122bp, so I'm going to use that as my thinning distance**"
   ]
  },
  {
   "cell_type": "code",
   "execution_count": 29,
   "id": "9c80504a",
   "metadata": {},
   "outputs": [
    {
     "name": "stdout",
     "output_type": "stream",
     "text": [
      "\n",
      "VCFtools - 0.1.16\n",
      "(C) Adam Auton and Anthony Marcketta 2009\n",
      "\n",
      "Parameters as interpreted:\n",
      "\t--vcf filtered_indv.recode.vcf\n",
      "\t--recode-INFO-all\n",
      "\t--thin 122\n",
      "\t--out thinned\n",
      "\t--recode\n",
      "\n",
      "After filtering, kept 179 out of 179 Individuals\n",
      "Outputting VCF file...\n",
      "After filtering, kept 5128 out of a possible 18521 Sites\n",
      "Run Time = 5.00 seconds\n"
     ]
    }
   ],
   "source": [
    "!module load vcftools/0.1.16 && \\\n",
    "vcftools \\\n",
    "--vcf filtered_indv.recode.vcf \\\n",
    "--thin 122 \\\n",
    "--recode \\\n",
    "--recode-INFO-all \\\n",
    "--out thinned"
   ]
  },
  {
   "cell_type": "markdown",
   "id": "0990a0ee",
   "metadata": {},
   "source": [
    "## Final data set is **5128 loci, 179 individuals**"
   ]
  },
  {
   "cell_type": "markdown",
   "id": "6333a8d2",
   "metadata": {},
   "source": [
    "## Output 012\n",
    "There are other output files availble in vcftools including plink and BEAGLE"
   ]
  },
  {
   "cell_type": "code",
   "execution_count": 1,
   "id": "e803c6b8",
   "metadata": {},
   "outputs": [
    {
     "name": "stdout",
     "output_type": "stream",
     "text": [
      "\r\n",
      "VCFtools - 0.1.16\r\n",
      "(C) Adam Auton and Anthony Marcketta 2009\r\n",
      "\r\n",
      "Parameters as interpreted:\r\n",
      "\t--vcf thinned.recode.vcf\r\n",
      "\t--012\r\n",
      "\t--out snps\r\n",
      "\r\n",
      "stat error: No such file or directory\r\n",
      "Error: Can't determine file type of thinned.recode.vcf\r\n"
     ]
    }
   ],
   "source": [
    "!module load vcftools && vcftools \\\n",
    "--vcf thinned.recode.vcf \\\n",
    "--out snps \\\n",
    "--012"
   ]
  },
  {
   "cell_type": "markdown",
   "id": "c9424923",
   "metadata": {},
   "source": [
    "## Next step:  PCA\n",
    "\n",
    "**make PCA folder and put plink in it"
   ]
  },
  {
   "cell_type": "code",
   "execution_count": 2,
   "id": "51ceb46e",
   "metadata": {},
   "outputs": [
    {
     "name": "stdout",
     "output_type": "stream",
     "text": [
      "/home\n"
     ]
    }
   ],
   "source": [
    "cd .."
   ]
  },
  {
   "cell_type": "code",
   "execution_count": 3,
   "id": "a3ee05e5",
   "metadata": {},
   "outputs": [
    {
     "name": "stdout",
     "output_type": "stream",
     "text": [
      "mkdir: cannot create directory ‘pca’: Permission denied\r\n"
     ]
    }
   ],
   "source": [
    "mkdir pca"
   ]
  },
  {
   "cell_type": "code",
   "execution_count": 4,
   "id": "ee7df765",
   "metadata": {},
   "outputs": [
    {
     "name": "stdout",
     "output_type": "stream",
     "text": [
      "cp: cannot stat 'filter/snps.*': No such file or directory\r\n"
     ]
    }
   ],
   "source": [
    "cp filter/snps.* pca/"
   ]
  }
 ],
 "metadata": {
  "kernelspec": {
   "display_name": "Python 3 (ipykernel)",
   "language": "python",
   "name": "python3"
  },
  "language_info": {
   "codemirror_mode": {
    "name": "ipython",
    "version": 3
   },
   "file_extension": ".py",
   "mimetype": "text/x-python",
   "name": "python",
   "nbconvert_exporter": "python",
   "pygments_lexer": "ipython3",
   "version": "3.11.5"
  }
 },
 "nbformat": 4,
 "nbformat_minor": 5
}
